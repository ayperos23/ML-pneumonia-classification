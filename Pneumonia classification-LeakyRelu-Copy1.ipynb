{
 "cells": [
  {
   "cell_type": "code",
   "execution_count": 1,
   "metadata": {},
   "outputs": [
    {
     "name": "stdout",
     "output_type": "stream",
     "text": [
      "Requirement already satisfied: opencv-python in c:\\users\\soric\\anaconda3\\lib\\site-packages (4.1.2.30)\n",
      "Requirement already satisfied: numpy>=1.14.5 in c:\\users\\soric\\anaconda3\\lib\\site-packages (from opencv-python) (1.16.5)\n",
      "Requirement already satisfied: keras in c:\\users\\soric\\anaconda3\\lib\\site-packages (2.3.1)\n",
      "Requirement already satisfied: scipy>=0.14 in c:\\users\\soric\\anaconda3\\lib\\site-packages (from keras) (1.3.1)\n",
      "Requirement already satisfied: pyyaml in c:\\users\\soric\\anaconda3\\lib\\site-packages (from keras) (5.1.2)\n",
      "Requirement already satisfied: keras-applications>=1.0.6 in c:\\users\\soric\\anaconda3\\lib\\site-packages (from keras) (1.0.8)\n",
      "Requirement already satisfied: numpy>=1.9.1 in c:\\users\\soric\\anaconda3\\lib\\site-packages (from keras) (1.16.5)\n",
      "Requirement already satisfied: h5py in c:\\users\\soric\\anaconda3\\lib\\site-packages (from keras) (2.9.0)\n",
      "Requirement already satisfied: six>=1.9.0 in c:\\users\\soric\\anaconda3\\lib\\site-packages (from keras) (1.12.0)\n",
      "Requirement already satisfied: keras-preprocessing>=1.0.5 in c:\\users\\soric\\anaconda3\\lib\\site-packages (from keras) (1.1.0)\n",
      "Requirement already satisfied: tensorflow in c:\\users\\soric\\anaconda3\\lib\\site-packages (2.0.0)\n",
      "Requirement already satisfied: google-pasta>=0.1.6 in c:\\users\\soric\\anaconda3\\lib\\site-packages (from tensorflow) (0.1.8)\n",
      "Requirement already satisfied: six>=1.10.0 in c:\\users\\soric\\anaconda3\\lib\\site-packages (from tensorflow) (1.12.0)\n",
      "Requirement already satisfied: protobuf>=3.6.1 in c:\\users\\soric\\anaconda3\\lib\\site-packages (from tensorflow) (3.11.0)\n",
      "Requirement already satisfied: wrapt>=1.11.1 in c:\\users\\soric\\anaconda3\\lib\\site-packages (from tensorflow) (1.11.2)\n",
      "Requirement already satisfied: tensorboard<2.1.0,>=2.0.0 in c:\\users\\soric\\anaconda3\\lib\\site-packages (from tensorflow) (2.0.2)\n",
      "Requirement already satisfied: wheel>=0.26 in c:\\users\\soric\\anaconda3\\lib\\site-packages (from tensorflow) (0.33.6)\n",
      "Requirement already satisfied: numpy<2.0,>=1.16.0 in c:\\users\\soric\\anaconda3\\lib\\site-packages (from tensorflow) (1.16.5)\n",
      "Requirement already satisfied: absl-py>=0.7.0 in c:\\users\\soric\\anaconda3\\lib\\site-packages (from tensorflow) (0.8.1)\n",
      "Requirement already satisfied: termcolor>=1.1.0 in c:\\users\\soric\\anaconda3\\lib\\site-packages (from tensorflow) (1.1.0)\n",
      "Requirement already satisfied: keras-applications>=1.0.8 in c:\\users\\soric\\anaconda3\\lib\\site-packages (from tensorflow) (1.0.8)\n",
      "Requirement already satisfied: opt-einsum>=2.3.2 in c:\\users\\soric\\anaconda3\\lib\\site-packages (from tensorflow) (3.1.0)\n",
      "Requirement already satisfied: astor>=0.6.0 in c:\\users\\soric\\anaconda3\\lib\\site-packages (from tensorflow) (0.8.0)\n",
      "Requirement already satisfied: keras-preprocessing>=1.0.5 in c:\\users\\soric\\anaconda3\\lib\\site-packages (from tensorflow) (1.1.0)\n",
      "Requirement already satisfied: grpcio>=1.8.6 in c:\\users\\soric\\anaconda3\\lib\\site-packages (from tensorflow) (1.25.0)\n",
      "Requirement already satisfied: tensorflow-estimator<2.1.0,>=2.0.0 in c:\\users\\soric\\anaconda3\\lib\\site-packages (from tensorflow) (2.0.1)\n",
      "Requirement already satisfied: gast==0.2.2 in c:\\users\\soric\\anaconda3\\lib\\site-packages (from tensorflow) (0.2.2)\n",
      "Requirement already satisfied: setuptools in c:\\users\\soric\\anaconda3\\lib\\site-packages (from protobuf>=3.6.1->tensorflow) (41.4.0)\n",
      "Requirement already satisfied: google-auth<2,>=1.6.3 in c:\\users\\soric\\anaconda3\\lib\\site-packages (from tensorboard<2.1.0,>=2.0.0->tensorflow) (1.7.1)\n",
      "Requirement already satisfied: google-auth-oauthlib<0.5,>=0.4.1 in c:\\users\\soric\\anaconda3\\lib\\site-packages (from tensorboard<2.1.0,>=2.0.0->tensorflow) (0.4.1)\n",
      "Requirement already satisfied: werkzeug>=0.11.15 in c:\\users\\soric\\anaconda3\\lib\\site-packages (from tensorboard<2.1.0,>=2.0.0->tensorflow) (0.16.0)\n",
      "Requirement already satisfied: requests<3,>=2.21.0 in c:\\users\\soric\\anaconda3\\lib\\site-packages (from tensorboard<2.1.0,>=2.0.0->tensorflow) (2.22.0)\n",
      "Requirement already satisfied: markdown>=2.6.8 in c:\\users\\soric\\anaconda3\\lib\\site-packages (from tensorboard<2.1.0,>=2.0.0->tensorflow) (3.1.1)\n",
      "Requirement already satisfied: h5py in c:\\users\\soric\\anaconda3\\lib\\site-packages (from keras-applications>=1.0.8->tensorflow) (2.9.0)\n",
      "Requirement already satisfied: pyasn1-modules>=0.2.1 in c:\\users\\soric\\anaconda3\\lib\\site-packages (from google-auth<2,>=1.6.3->tensorboard<2.1.0,>=2.0.0->tensorflow) (0.2.7)\n",
      "Requirement already satisfied: rsa<4.1,>=3.1.4 in c:\\users\\soric\\anaconda3\\lib\\site-packages (from google-auth<2,>=1.6.3->tensorboard<2.1.0,>=2.0.0->tensorflow) (4.0)\n",
      "Requirement already satisfied: cachetools<3.2,>=2.0.0 in c:\\users\\soric\\anaconda3\\lib\\site-packages (from google-auth<2,>=1.6.3->tensorboard<2.1.0,>=2.0.0->tensorflow) (3.1.1)\n",
      "Requirement already satisfied: requests-oauthlib>=0.7.0 in c:\\users\\soric\\anaconda3\\lib\\site-packages (from google-auth-oauthlib<0.5,>=0.4.1->tensorboard<2.1.0,>=2.0.0->tensorflow) (1.3.0)\n",
      "Requirement already satisfied: certifi>=2017.4.17 in c:\\users\\soric\\anaconda3\\lib\\site-packages (from requests<3,>=2.21.0->tensorboard<2.1.0,>=2.0.0->tensorflow) (2019.9.11)\n",
      "Requirement already satisfied: urllib3!=1.25.0,!=1.25.1,<1.26,>=1.21.1 in c:\\users\\soric\\anaconda3\\lib\\site-packages (from requests<3,>=2.21.0->tensorboard<2.1.0,>=2.0.0->tensorflow) (1.24.2)\n",
      "Requirement already satisfied: idna<2.9,>=2.5 in c:\\users\\soric\\anaconda3\\lib\\site-packages (from requests<3,>=2.21.0->tensorboard<2.1.0,>=2.0.0->tensorflow) (2.8)\n",
      "Requirement already satisfied: chardet<3.1.0,>=3.0.2 in c:\\users\\soric\\anaconda3\\lib\\site-packages (from requests<3,>=2.21.0->tensorboard<2.1.0,>=2.0.0->tensorflow) (3.0.4)\n",
      "Requirement already satisfied: pyasn1<0.5.0,>=0.4.6 in c:\\users\\soric\\anaconda3\\lib\\site-packages (from pyasn1-modules>=0.2.1->google-auth<2,>=1.6.3->tensorboard<2.1.0,>=2.0.0->tensorflow) (0.4.8)\n",
      "Requirement already satisfied: oauthlib>=3.0.0 in c:\\users\\soric\\anaconda3\\lib\\site-packages (from requests-oauthlib>=0.7.0->google-auth-oauthlib<0.5,>=0.4.1->tensorboard<2.1.0,>=2.0.0->tensorflow) (3.1.0)\n"
     ]
    },
    {
     "name": "stderr",
     "output_type": "stream",
     "text": [
      "Using TensorFlow backend.\n"
     ]
    },
    {
     "name": "stdout",
     "output_type": "stream",
     "text": [
      "True\n"
     ]
    }
   ],
   "source": [
    "# General libs\n",
    "import os                             \n",
    "import random \n",
    "from PIL import Image\n",
    "import matplotlib.pyplot as plt     \n",
    "%matplotlib inline   \n",
    "from matplotlib.ticker import FuncFormatter\n",
    "from sklearn.metrics import accuracy_score, confusion_matrix, precision_score, recall_score, f1_score, roc_auc_score, roc_curve, auc\n",
    "from sklearn.ensemble import RandomForestClassifier\n",
    "import pandas as pd             \n",
    "import numpy as np  \n",
    "!pip install opencv-python\n",
    "import cv2                            \n",
    "\n",
    "# ML libs\n",
    "!pip install keras\n",
    "!pip install tensorflow\n",
    "import keras.backend as K\n",
    "from keras import regularizers\n",
    "from keras.models import Model, Sequential  \n",
    "from keras.layers import Input, Flatten, Dropout, Dense, BatchNormalization\n",
    "from keras.layers import LeakyReLU, PReLU, Activation, Conv2D, SeparableConv2D, MaxPool2D\n",
    "from keras.optimizers import Adam\n",
    "from keras.preprocessing.image import ImageDataGenerator\n",
    "from keras.callbacks import ModelCheckpoint, ReduceLROnPlateau, History, EarlyStopping\n",
    "import tensorflow as tf\n",
    "tf.compat.v1.enable_eager_execution()\n",
    "print(tf.executing_eagerly())\n",
    "\n",
    "seed = 69\n",
    "np.random.seed(seed)\n",
    "tf.random.set_seed(seed)"
   ]
  },
  {
   "cell_type": "code",
   "execution_count": 2,
   "metadata": {},
   "outputs": [],
   "source": [
    "input_path = './chest_xray/'\n",
    "\n",
    "counter_normal_train = len(os.listdir(input_path + 'train' + '/NORMAL'))\n",
    "counter_infect_train = len(os.listdir(input_path + 'train' + '/PNEUMONIA'))\n",
    "\n",
    "counter_normal_test = len(os.listdir(input_path + 'test' + '/NORMAL'))\n",
    "counter_infect_test = len(os.listdir(input_path + 'test' +  '/PNEUMONIA'))\n",
    "\n",
    "counter_normal_val = len(os.listdir(input_path + 'val' + '/NORMAL'))\n",
    "counter_infect_val = len(os.listdir(input_path + 'val' +  '/PNEUMONIA'))\n",
    "\n",
    "counter_all = counter_normal_train + counter_infect_train + counter_normal_test + counter_infect_test + counter_normal_val +  counter_infect_val\n",
    "counter_all_healthy = counter_normal_train + counter_normal_test + counter_normal_val\n",
    "counter_all_infect = counter_infect_train + counter_infect_test + counter_infect_val"
   ]
  },
  {
   "cell_type": "code",
   "execution_count": 3,
   "metadata": {},
   "outputs": [
    {
     "data": {
      "image/png": "[encoded data removed]",
      "text/plain": [
       "<Figure size 432x288 with 1 Axes>"
      ]
     },
     "metadata": {
      "needs_background": "light"
     },
     "output_type": "display_data"
    }
   ],
   "source": [
    "labels = ['train', 'test', 'val']\n",
    "healthy_means = [counter_normal_train, counter_normal_test, counter_normal_val]\n",
    "infected_means = [counter_infect_train, counter_infect_test, counter_infect_val]\n",
    "\n",
    "x = np.arange(len(labels))  \n",
    "width = 0.35  \n",
    "\n",
    "fig, ax = plt.subplots()\n",
    "rects1 = ax.bar(x - width/2, healthy_means, width, label='Healthy')\n",
    "rects2 = ax.bar(x + width/2, infected_means, width, label='Infected')\n",
    "ax.set_ylabel('No of images')\n",
    "ax.set_title('Images by each dataset')\n",
    "ax.set_xticks(x)\n",
    "ax.set_xticklabels(labels)\n",
    "ax.legend()\n",
    "\n",
    "def autolabel(rects):\n",
    "    \"\"\"Attach a text label above each bar in *rects*, displaying its height.\"\"\"\n",
    "    for rect in rects:\n",
    "        height = rect.get_height()\n",
    "        ax.annotate('{}'.format(height),\n",
    "                    xy=(rect.get_x() + rect.get_width() / 2, height),\n",
    "                    xytext=(0, 3),  # 3 points vertical offset\n",
    "                    textcoords=\"offset points\",\n",
    "                    ha='center', va='bottom')\n",
    "\n",
    "autolabel(rects1)\n",
    "autolabel(rects2)\n",
    "fig.tight_layout()\n",
    "plt.show()"
   ]
  },
  {
   "cell_type": "code",
   "execution_count": 4,
   "metadata": {},
   "outputs": [
    {
     "data": {
      "image/png": "[encoded data removed]",
      "text/plain": [
       "<Figure size 432x288 with 1 Axes>"
      ]
     },
     "metadata": {
      "needs_background": "light"
     },
     "output_type": "display_data"
    }
   ],
   "source": [
    "x = [u'INFECTED', u'HEALTHY', u'ALL']\n",
    "y = [counter_all_infect, counter_all_healthy, counter_all]\n",
    "\n",
    "fig, ax = plt.subplots()    \n",
    "width = 0.75  \n",
    "ind = np.arange(len(y))  \n",
    "ax.barh(ind, y, width, color=\"turquoise\")\n",
    "ax.set_yticks(ind+width/2)\n",
    "ax.set_yticklabels(x, minor=False)\n",
    "plt.title('Number of images in each dataset')\n",
    "plt.xlabel('Number of images')\n",
    "plt.ylabel('Images type')      \n",
    "\n",
    "plt.savefig(os.path.join('pneumonia_class.png'), dpi=400, format='png', bbox_inches='tight') \n",
    "\n",
    "for i, v in enumerate(y):\n",
    "    ax.text(v + 3, i, str(v), color='black', fontweight='bold')"
   ]
  },
  {
   "cell_type": "code",
   "execution_count": 5,
   "metadata": {},
   "outputs": [],
   "source": [
    "def process_images(dimensions, batch):\n",
    "  train_datagen =    ImageDataGenerator(rescale = 1./255, \n",
    "                                        zca_whitening=False, \n",
    "                                        horizontal_flip = False, \n",
    "                                        zoom_range = 0.5, \n",
    "                                        vertical_flip = True)\n",
    "  test_val_datagen = ImageDataGenerator (rescale= 1./255)\n",
    "\n",
    "  train_gen = train_datagen.flow_from_directory(directory = input_path + 'train', \n",
    "                                                target_size = (dimensions, dimensions), \n",
    "                                                batch_size = batch, \n",
    "                                                class_mode = 'binary', \n",
    "                                                shuffle = True)\n",
    "  test_gen = test_val_datagen.flow_from_directory(directory = input_path + 'test', \n",
    "                                                  target_size = (dimensions, dimensions), \n",
    "                                                  batch_size = batch, \n",
    "                                                  class_mode = 'binary', \n",
    "                                                  shuffle = True)\n",
    "\n",
    "  test_data = []\n",
    "  test_labels = []\n",
    "\n",
    "  for condition in ['/NORMAL/', '/PNEUMONIA/']:\n",
    "    for image in (os.listdir(input_path + 'test' + condition)):\n",
    "      image = plt.imread(input_path + 'test' + condition + image)\n",
    "      image = cv2.resize(image, (dimensions, dimensions))\n",
    "      image = np.dstack([image, image, image])\n",
    "      image = image.astype('float32') / 255\n",
    "      if condition == '/NORMAL/':\n",
    "        label = 0\n",
    "      elif condition == '/PNEUMONIA/':\n",
    "        label = 1\n",
    "        \n",
    "      test_data.append(image)\n",
    "      test_labels.append(label)\n",
    "\n",
    "  test_data = np.array(test_data)\n",
    "  test_labels = np.array(test_labels)\n",
    "\n",
    "  return train_gen, test_gen, test_data, test_labels\n"
   ]
  },
  {
   "cell_type": "code",
   "execution_count": 12,
   "metadata": {},
   "outputs": [
    {
     "name": "stdout",
     "output_type": "stream",
     "text": [
      "Found 5223 images belonging to 2 classes.\n",
      "Found 624 images belonging to 2 classes.\n"
     ]
    }
   ],
   "source": [
    "dimensions = 150\n",
    "epochs = 10\n",
    "batch = 16\n",
    "\n",
    "train_gen, test_gen, test_data, test_labels = process_images(dimensions, batch)"
   ]
  },
  {
   "cell_type": "code",
   "execution_count": 13,
   "metadata": {},
   "outputs": [
    {
     "name": "stdout",
     "output_type": "stream",
     "text": [
      "WARNING:tensorflow:Large dropout rate: 0.6 (>0.5). In TensorFlow 2.x, dropout() uses dropout rate instead of keep_prob. Please ensure that this is intended.\n"
     ]
    }
   ],
   "source": [
    "model = Sequential()\n",
    "model.add(Conv2D(16, kernel_size=(3, 3), padding = 'same', input_shape=(150,150,3)))\n",
    "model.add(Conv2D(16, kernel_size=(3, 3), padding = 'same'))\n",
    "model.add(MaxPool2D(pool_size=(2, 2)))\n",
    "\n",
    "model.add(SeparableConv2D(32, kernel_size=(3, 3), padding = 'same'))\n",
    "model.add(LeakyReLU(alpha=0.3))\n",
    "model.add(SeparableConv2D(32, kernel_size=(3, 3), padding = 'same'))\n",
    "model.add(LeakyReLU(alpha=0.3))\n",
    "model.add(BatchNormalization())\n",
    "model.add(MaxPool2D(pool_size=(2, 2)))\n",
    "\n",
    "model.add(SeparableConv2D(64, kernel_size=(3, 3), padding = 'same'))\n",
    "model.add(LeakyReLU(alpha=0.3))\n",
    "model.add(SeparableConv2D(64, kernel_size=(3, 3), padding = 'same'))\n",
    "model.add(LeakyReLU(alpha=0.3))\n",
    "model.add(BatchNormalization())\n",
    "model.add(MaxPool2D(pool_size=(2, 2)))\n",
    "\n",
    "model.add(SeparableConv2D(128, kernel_size=(3, 3), padding = 'same'))\n",
    "model.add(LeakyReLU(alpha=0.3))\n",
    "model.add(SeparableConv2D(128, kernel_size=(3, 3), padding = 'same'))\n",
    "model.add(LeakyReLU(alpha=0.3))\n",
    "model.add(BatchNormalization())\n",
    "model.add(MaxPool2D(pool_size=(2, 2)))\n",
    "model.add(Dropout(0.2))\n",
    "\n",
    "model.add(SeparableConv2D(256, kernel_size=(3, 3), padding = 'same'))\n",
    "model.add(LeakyReLU(alpha=0.3))\n",
    "model.add(SeparableConv2D(256, kernel_size=(3, 3), padding = 'same'))\n",
    "model.add(LeakyReLU(alpha=0.3))\n",
    "model.add(BatchNormalization())\n",
    "model.add(MaxPool2D(pool_size=(2, 2)))\n",
    "model.add(Dropout(0.2))\n",
    "\n",
    "model.add(Flatten())\n",
    "model.add(Dense(512, activation = 'relu', kernel_regularizer=regularizers.l2(0.01)))\n",
    "model.add(Dropout(0.6))\n",
    "model.add(Dense(128, activation = 'relu', kernel_regularizer=regularizers.l2(0.01)))\n",
    "model.add(Dropout(0.4))\n",
    "model.add(Dense(64, activation = 'relu', kernel_regularizer=regularizers.l2(0.01)))\n",
    "model.add(Dropout(0.25))\n",
    "\n",
    "model.add(Dense(1, activation = 'sigmoid', kernel_regularizer=regularizers.l2(0.01)))\n",
    "\n",
    "# Creating a model and compiling\n",
    "model.compile(optimizer = 'adam', \n",
    "              loss = 'binary_crossentropy', \n",
    "              metrics =['accuracy'])\n",
    "\n",
    "# Callbacks\n",
    "#tensor_board = TensorBoard(log_dir='graph.metrics', \n",
    "#                                           histogram_freq=0, \n",
    "#                                           write_graph=True, \n",
    "#                                           write_images=True)\n",
    "checkpoint = ModelCheckpoint(filepath = 'weights.{epoch:02d}-{val_loss:.2f}.hdf5', \n",
    "                             verbose = 1,\n",
    "                             mode = 'auto',\n",
    "                             save_best_only=True, \n",
    "                             save_weights_only=True)\n",
    "lr_reduce = ReduceLROnPlateau(monitor='val_loss', \n",
    "                              factor=0.3, \n",
    "                              patience=2, \n",
    "                              verbose=1)\n",
    "history = History()\n",
    "\n",
    "early_stopping = EarlyStopping(monitor='val_accuracy', \n",
    "                               min_delta=0.1, \n",
    "                               patience=3) \n",
    "#zca whitening and early stopping, promjena i testiranje"
   ]
  },
  {
   "cell_type": "code",
   "execution_count": 14,
   "metadata": {},
   "outputs": [
    {
     "name": "stdout",
     "output_type": "stream",
     "text": [
      "Epoch 1/11\n",
      "326/326 [==============================] - 220s 674ms/step - loss: 1.2069 - accuracy: 0.8049 - val_loss: 0.6714 - val_accuracy: 0.6250\n",
      "\n",
      "Epoch 00001: val_loss improved from inf to 0.67137, saving model to weights.01-0.67.hdf5\n",
      "Epoch 2/11\n",
      "326/326 [==============================] - 226s 693ms/step - loss: 0.4264 - accuracy: 0.8454 - val_loss: 0.4696 - val_accuracy: 0.6282\n",
      "\n",
      "Epoch 00002: val_loss improved from 0.67137 to 0.46962, saving model to weights.02-0.47.hdf5\n",
      "Epoch 3/11\n",
      "326/326 [==============================] - 213s 654ms/step - loss: 0.3826 - accuracy: 0.8708 - val_loss: 0.4445 - val_accuracy: 0.7676\n",
      "\n",
      "Epoch 00003: val_loss improved from 0.46962 to 0.44455, saving model to weights.03-0.44.hdf5\n",
      "Epoch 4/11\n",
      "326/326 [==============================] - 212s 650ms/step - loss: 0.3645 - accuracy: 0.8815 - val_loss: 0.2715 - val_accuracy: 0.8734\n",
      "\n",
      "Epoch 00004: val_loss improved from 0.44455 to 0.27149, saving model to weights.04-0.27.hdf5\n",
      "Epoch 5/11\n",
      "326/326 [==============================] - 217s 667ms/step - loss: 0.3481 - accuracy: 0.8967 - val_loss: 0.6246 - val_accuracy: 0.8494\n",
      "\n",
      "Epoch 00005: val_loss did not improve from 0.27149\n",
      "Epoch 6/11\n",
      "326/326 [==============================] - 216s 662ms/step - loss: 0.3463 - accuracy: 0.8998 - val_loss: 0.5625 - val_accuracy: 0.7804\n",
      "\n",
      "Epoch 00006: val_loss did not improve from 0.27149\n",
      "\n",
      "Epoch 00006: ReduceLROnPlateau reducing learning rate to 0.0003000000142492354.\n",
      "Epoch 7/11\n",
      "326/326 [==============================] - 216s 663ms/step - loss: 0.2659 - accuracy: 0.9241 - val_loss: 0.2954 - val_accuracy: 0.8814\n",
      "\n",
      "Epoch 00007: val_loss did not improve from 0.27149\n",
      "Epoch 8/11\n",
      "326/326 [==============================] - 221s 679ms/step - loss: 0.2433 - accuracy: 0.9268 - val_loss: 0.2787 - val_accuracy: 0.8798\n",
      "\n",
      "Epoch 00008: val_loss did not improve from 0.27149\n",
      "\n",
      "Epoch 00008: ReduceLROnPlateau reducing learning rate to 9.000000427477062e-05.\n",
      "Epoch 9/11\n",
      "326/326 [==============================] - 213s 655ms/step - loss: 0.2263 - accuracy: 0.9336 - val_loss: 0.1150 - val_accuracy: 0.8846\n",
      "\n",
      "Epoch 00009: val_loss improved from 0.27149 to 0.11500, saving model to weights.09-0.12.hdf5\n",
      "Epoch 10/11\n",
      "326/326 [==============================] - 214s 656ms/step - loss: 0.2204 - accuracy: 0.9330 - val_loss: 0.0935 - val_accuracy: 0.8878\n",
      "\n",
      "Epoch 00010: val_loss improved from 0.11500 to 0.09355, saving model to weights.10-0.09.hdf5\n",
      "Epoch 11/11\n",
      "326/326 [==============================] - 214s 656ms/step - loss: 0.2106 - accuracy: 0.9378 - val_loss: 0.2640 - val_accuracy: 0.8974\n",
      "\n",
      "Epoch 00011: val_loss did not improve from 0.09355\n"
     ]
    }
   ],
   "source": [
    "hist = model.fit_generator(train_gen, \n",
    "                           steps_per_epoch = train_gen.samples // batch, \n",
    "                           epochs = epochs, \n",
    "                           validation_data = test_gen, \n",
    "                           validation_steps = test_gen.samples // batch, \n",
    "                           callbacks = [checkpoint, lr_reduce])\n"
   ]
  },
  {
   "cell_type": "code",
   "execution_count": 15,
   "metadata": {},
   "outputs": [
    {
     "name": "stdout",
     "output_type": "stream",
     "text": [
      "dict_keys(['val_loss', 'val_accuracy', 'loss', 'accuracy', 'lr'])\n"
     ]
    },
    {
     "data": {
      "image/png": "[encoded data removed]",
      "text/plain": [
       "<Figure size 432x288 with 1 Axes>"
      ]
     },
     "metadata": {
      "needs_background": "light"
     },
     "output_type": "display_data"
    },
    {
     "data": {
      "image/png": "[encoded data removed]",
      "text/plain": [
       "<Figure size 432x288 with 1 Axes>"
      ]
     },
     "metadata": {
      "needs_background": "light"
     },
     "output_type": "display_data"
    }
   ],
   "source": [
    "print(hist.history.keys())\n",
    "\n",
    "plt.plot(hist.history['accuracy'])\n",
    "plt.plot(hist.history['val_accuracy'])\n",
    "plt.title('model accuracy')\n",
    "plt.ylabel('accuracy')\n",
    "plt.xlabel('epoch')\n",
    "plt.legend(['train', 'val'])\n",
    "plt.show()\n",
    "\n",
    "plt.plot(hist.history['loss'])\n",
    "plt.plot(hist.history['val_loss'])\n",
    "plt.title('Model loss')\n",
    "plt.ylabel('Loss')\n",
    "plt.xlabel('Epoch')\n",
    "plt.legend(['Train', 'Test'])\n",
    "plt.show()"
   ]
  },
  {
   "cell_type": "code",
   "execution_count": 16,
   "metadata": {},
   "outputs": [
    {
     "name": "stdout",
     "output_type": "stream",
     "text": [
      "\n",
      "Test metrics\n",
      "----------------\n",
      "Confusion matrix\n",
      " [[175  59]\n",
      " [ 10 380]]\n",
      "Accuracy: 88.94%\n",
      "Precision: 86.56%\n",
      "Recall: 97.44%\n",
      "F1-score: 91.68%\n",
      "ROC AUC: 0.959763\n",
      "\n",
      "Train metric\n",
      "----------------\n",
      "Train accuracy: 93.78\n"
     ]
    }
   ],
   "source": [
    "predict_probs = model.predict(test_data)\n",
    "predict_classes = model.predict_classes(test_data, verbose=0)\n",
    "\n",
    "predict_probs = predict_probs[:, 0]\n",
    "predict_classes = predict_classes[:, 0]\n",
    "\n",
    "print ('\\nTest metrics\\n----------------')\n",
    "cm = confusion_matrix(test_labels, np.round(predict_probs))\n",
    "print ('Confusion matrix\\n', cm)\n",
    "# accuracy: (tp + tn) / (p + n)\n",
    "accuracy = accuracy_score(test_labels, predict_classes) * 100\n",
    "print('Accuracy: {}%'.format(np.round(accuracy,2)))\n",
    "# precision tp / (tp + fp)\n",
    "precision = precision_score(test_labels, predict_classes) * 100\n",
    "print('Precision: {}%'.format(np.round(precision,2)))\n",
    "# recall: tp / (tp + fn)\n",
    "recall = recall_score(test_labels, predict_classes) * 100\n",
    "print('Recall: {}%'.format(np.round(recall,2)))\n",
    "# f1: 2 tp / (2 tp + fp + fn)\n",
    "f1 = f1_score(test_labels, predict_classes) * 100\n",
    "print('F1-score: {}%'.format(np.round(2* precision * recall / (precision + recall),2)))\n",
    "\n",
    "auc = roc_auc_score(test_labels, predict_probs)\n",
    "print('ROC AUC: %f' % auc)\n",
    "\n",
    "print('\\nTrain metric\\n----------------')\n",
    "print('Train accuracy: {}'.format(np.round((hist.history['accuracy'][-1])*100, 2)))"
   ]
  },
  {
   "cell_type": "code",
   "execution_count": null,
   "metadata": {},
   "outputs": [],
   "source": []
  }
 ],
 "metadata": {
  "kernelspec": {
   "display_name": "Python 3",
   "language": "python",
   "name": "python3"
  },
  "language_info": {
   "codemirror_mode": {
    "name": "ipython",
    "version": 3
   },
   "file_extension": ".py",
   "mimetype": "text/x-python",
   "name": "python",
   "nbconvert_exporter": "python",
   "pygments_lexer": "ipython3",
   "version": "3.7.4"
  }
 },
 "nbformat": 4,
 "nbformat_minor": 2
}
